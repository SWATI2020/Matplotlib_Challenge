{
 "cells": [
  {
   "cell_type": "code",
   "execution_count": 172,
   "metadata": {},
   "outputs": [],
   "source": [
    "import matplotlib.pyplot as plt\n",
    "import pandas as pd\n",
    "import numpy as np\n",
    "import scipy.stats as st\n",
    "from sklearn import linear_model"
   ]
  },
  {
   "cell_type": "code",
   "execution_count": 173,
   "metadata": {},
   "outputs": [],
   "source": [
    "study_results = pd.read_csv(\"Codingbootcamp/Study_results.csv\")\n",
    "Mouse_metadata = pd.read_csv(\"Codingbootcamp/Mouse_metadata.csv\")"
   ]
  },
  {
   "cell_type": "code",
   "execution_count": 216,
   "metadata": {},
   "outputs": [
    {
     "data": {
      "text/html": [
       "<div>\n",
       "<style scoped>\n",
       "    .dataframe tbody tr th:only-of-type {\n",
       "        vertical-align: middle;\n",
       "    }\n",
       "\n",
       "    .dataframe tbody tr th {\n",
       "        vertical-align: top;\n",
       "    }\n",
       "\n",
       "    .dataframe thead th {\n",
       "        text-align: right;\n",
       "    }\n",
       "</style>\n",
       "<table border=\"1\" class=\"dataframe\">\n",
       "  <thead>\n",
       "    <tr style=\"text-align: right;\">\n",
       "      <th></th>\n",
       "      <th>Mouse ID</th>\n",
       "      <th>Timepoint</th>\n",
       "      <th>Tumor Volume (mm3)</th>\n",
       "      <th>Metastatic Sites</th>\n",
       "      <th>Drug Regimen</th>\n",
       "      <th>Sex</th>\n",
       "      <th>Age_months</th>\n",
       "      <th>Weight (g)</th>\n",
       "    </tr>\n",
       "  </thead>\n",
       "  <tbody>\n",
       "    <tr>\n",
       "      <td>0</td>\n",
       "      <td>b128</td>\n",
       "      <td>0</td>\n",
       "      <td>45.0</td>\n",
       "      <td>0</td>\n",
       "      <td>Capomulin</td>\n",
       "      <td>Female</td>\n",
       "      <td>9</td>\n",
       "      <td>22</td>\n",
       "    </tr>\n",
       "    <tr>\n",
       "      <td>1460</td>\n",
       "      <td>w584</td>\n",
       "      <td>0</td>\n",
       "      <td>45.0</td>\n",
       "      <td>0</td>\n",
       "      <td>Infubinol</td>\n",
       "      <td>Male</td>\n",
       "      <td>3</td>\n",
       "      <td>29</td>\n",
       "    </tr>\n",
       "    <tr>\n",
       "      <td>1006</td>\n",
       "      <td>p136</td>\n",
       "      <td>0</td>\n",
       "      <td>45.0</td>\n",
       "      <td>0</td>\n",
       "      <td>Zoniferol</td>\n",
       "      <td>Female</td>\n",
       "      <td>5</td>\n",
       "      <td>28</td>\n",
       "    </tr>\n",
       "    <tr>\n",
       "      <td>461</td>\n",
       "      <td>a411</td>\n",
       "      <td>0</td>\n",
       "      <td>45.0</td>\n",
       "      <td>0</td>\n",
       "      <td>Ramicane</td>\n",
       "      <td>Male</td>\n",
       "      <td>3</td>\n",
       "      <td>22</td>\n",
       "    </tr>\n",
       "    <tr>\n",
       "      <td>1467</td>\n",
       "      <td>b447</td>\n",
       "      <td>0</td>\n",
       "      <td>45.0</td>\n",
       "      <td>0</td>\n",
       "      <td>Ceftamin</td>\n",
       "      <td>Male</td>\n",
       "      <td>2</td>\n",
       "      <td>30</td>\n",
       "    </tr>\n",
       "  </tbody>\n",
       "</table>\n",
       "</div>"
      ],
      "text/plain": [
       "     Mouse ID  Timepoint  Tumor Volume (mm3)  Metastatic Sites Drug Regimen  \\\n",
       "0        b128          0                45.0                 0    Capomulin   \n",
       "1460     w584          0                45.0                 0    Infubinol   \n",
       "1006     p136          0                45.0                 0    Zoniferol   \n",
       "461      a411          0                45.0                 0     Ramicane   \n",
       "1467     b447          0                45.0                 0     Ceftamin   \n",
       "\n",
       "         Sex  Age_months  Weight (g)  \n",
       "0     Female           9          22  \n",
       "1460    Male           3          29  \n",
       "1006  Female           5          28  \n",
       "461     Male           3          22  \n",
       "1467    Male           2          30  "
      ]
     },
     "execution_count": 216,
     "metadata": {},
     "output_type": "execute_result"
    }
   ],
   "source": [
    "combined_data = pd.merge(df1,df2, how = \"outer\", on = \"Mouse ID\")\n",
    "combined_data = combined_data.sort_values(by = \"Timepoint\", ascending = 1)\n",
    "\n",
    "combined_data.head()"
   ]
  },
  {
   "cell_type": "code",
   "execution_count": 175,
   "metadata": {},
   "outputs": [
    {
     "data": {
      "text/html": [
       "<div>\n",
       "<style scoped>\n",
       "    .dataframe tbody tr th:only-of-type {\n",
       "        vertical-align: middle;\n",
       "    }\n",
       "\n",
       "    .dataframe tbody tr th {\n",
       "        vertical-align: top;\n",
       "    }\n",
       "\n",
       "    .dataframe thead th {\n",
       "        text-align: right;\n",
       "    }\n",
       "</style>\n",
       "<table border=\"1\" class=\"dataframe\">\n",
       "  <thead>\n",
       "    <tr style=\"text-align: right;\">\n",
       "      <th></th>\n",
       "      <th>Mean Tumor Volume</th>\n",
       "      <th>Median Tumor Volume</th>\n",
       "      <th>Tumor Volume Variance</th>\n",
       "      <th>Tumor Volume Std. Dev.</th>\n",
       "      <th>Tumor Volume Std. Err.</th>\n",
       "    </tr>\n",
       "    <tr>\n",
       "      <th>Drug Regimen</th>\n",
       "      <th></th>\n",
       "      <th></th>\n",
       "      <th></th>\n",
       "      <th></th>\n",
       "      <th></th>\n",
       "    </tr>\n",
       "  </thead>\n",
       "  <tbody>\n",
       "    <tr>\n",
       "      <td>Capomulin</td>\n",
       "      <td>40.675741</td>\n",
       "      <td>41.557809</td>\n",
       "      <td>24.947764</td>\n",
       "      <td>4.994774</td>\n",
       "      <td>0.329346</td>\n",
       "    </tr>\n",
       "    <tr>\n",
       "      <td>Ceftamin</td>\n",
       "      <td>52.591172</td>\n",
       "      <td>51.776157</td>\n",
       "      <td>39.290177</td>\n",
       "      <td>6.268188</td>\n",
       "      <td>0.469821</td>\n",
       "    </tr>\n",
       "    <tr>\n",
       "      <td>Infubinol</td>\n",
       "      <td>52.884795</td>\n",
       "      <td>51.820584</td>\n",
       "      <td>43.128684</td>\n",
       "      <td>6.567243</td>\n",
       "      <td>0.492236</td>\n",
       "    </tr>\n",
       "    <tr>\n",
       "      <td>Ketapril</td>\n",
       "      <td>55.235638</td>\n",
       "      <td>53.698743</td>\n",
       "      <td>68.553577</td>\n",
       "      <td>8.279709</td>\n",
       "      <td>0.603860</td>\n",
       "    </tr>\n",
       "    <tr>\n",
       "      <td>Naftisol</td>\n",
       "      <td>54.331565</td>\n",
       "      <td>52.509285</td>\n",
       "      <td>66.173479</td>\n",
       "      <td>8.134708</td>\n",
       "      <td>0.596466</td>\n",
       "    </tr>\n",
       "    <tr>\n",
       "      <td>Placebo</td>\n",
       "      <td>54.033581</td>\n",
       "      <td>52.288934</td>\n",
       "      <td>61.168083</td>\n",
       "      <td>7.821003</td>\n",
       "      <td>0.581331</td>\n",
       "    </tr>\n",
       "    <tr>\n",
       "      <td>Propriva</td>\n",
       "      <td>52.322552</td>\n",
       "      <td>50.854632</td>\n",
       "      <td>42.351070</td>\n",
       "      <td>6.507770</td>\n",
       "      <td>0.512884</td>\n",
       "    </tr>\n",
       "    <tr>\n",
       "      <td>Ramicane</td>\n",
       "      <td>40.216745</td>\n",
       "      <td>40.673236</td>\n",
       "      <td>23.486704</td>\n",
       "      <td>4.846308</td>\n",
       "      <td>0.320955</td>\n",
       "    </tr>\n",
       "    <tr>\n",
       "      <td>Stelasyn</td>\n",
       "      <td>54.233149</td>\n",
       "      <td>52.431737</td>\n",
       "      <td>59.450562</td>\n",
       "      <td>7.710419</td>\n",
       "      <td>0.573111</td>\n",
       "    </tr>\n",
       "    <tr>\n",
       "      <td>Zoniferol</td>\n",
       "      <td>53.236507</td>\n",
       "      <td>51.818479</td>\n",
       "      <td>48.533355</td>\n",
       "      <td>6.966589</td>\n",
       "      <td>0.516398</td>\n",
       "    </tr>\n",
       "  </tbody>\n",
       "</table>\n",
       "</div>"
      ],
      "text/plain": [
       "              Mean Tumor Volume  Median Tumor Volume  Tumor Volume Variance  \\\n",
       "Drug Regimen                                                                  \n",
       "Capomulin             40.675741            41.557809              24.947764   \n",
       "Ceftamin              52.591172            51.776157              39.290177   \n",
       "Infubinol             52.884795            51.820584              43.128684   \n",
       "Ketapril              55.235638            53.698743              68.553577   \n",
       "Naftisol              54.331565            52.509285              66.173479   \n",
       "Placebo               54.033581            52.288934              61.168083   \n",
       "Propriva              52.322552            50.854632              42.351070   \n",
       "Ramicane              40.216745            40.673236              23.486704   \n",
       "Stelasyn              54.233149            52.431737              59.450562   \n",
       "Zoniferol             53.236507            51.818479              48.533355   \n",
       "\n",
       "              Tumor Volume Std. Dev.  Tumor Volume Std. Err.  \n",
       "Drug Regimen                                                  \n",
       "Capomulin                   4.994774                0.329346  \n",
       "Ceftamin                    6.268188                0.469821  \n",
       "Infubinol                   6.567243                0.492236  \n",
       "Ketapril                    8.279709                0.603860  \n",
       "Naftisol                    8.134708                0.596466  \n",
       "Placebo                     7.821003                0.581331  \n",
       "Propriva                    6.507770                0.512884  \n",
       "Ramicane                    4.846308                0.320955  \n",
       "Stelasyn                    7.710419                0.573111  \n",
       "Zoniferol                   6.966589                0.516398  "
      ]
     },
     "execution_count": 175,
     "metadata": {},
     "output_type": "execute_result"
    }
   ],
   "source": [
    "# Summary statistics\n",
    "\n",
    "group = combined_data.groupby(\"Drug Regimen\")\n",
    "mean = group[\"Tumor Volume (mm3)\"].mean()\n",
    "median = group[\"Tumor Volume (mm3)\"].median()\n",
    "variance = group[\"Tumor Volume (mm3)\"].var()\n",
    "STD = group[\"Tumor Volume (mm3)\"].std()\n",
    "std_error = group[\"Tumor Volume (mm3)\"].sem()\n",
    "Statistics_summary = pd.DataFrame({\"Mean Tumor Volume\":mean, \"Median Tumor Volume\":median, \"Tumor Volume Variance\":variance, \"Tumor Volume Std. Dev.\":STD,\"Tumor Volume Std. Err.\":std_error})\n",
    "Statistics_summary"
   ]
  },
  {
   "cell_type": "code",
   "execution_count": 177,
   "metadata": {},
   "outputs": [
    {
     "data": {
      "image/png": "[encoded data removed]",
      "text/plain": [
       "<Figure size 432x288 with 1 Axes>"
      ]
     },
     "metadata": {
      "needs_background": "light"
     },
     "output_type": "display_data"
    }
   ],
   "source": [
    "#Bar Chart using Pyplot\n",
    "\n",
    "y_axis = group[\"Drug Regimen\"].count()\n",
    "Drug_Regimen = df3[\"Drug Regimen\"].unique()\n",
    "x_axis = np.arange(len(y_axis))\n",
    "tick_locations = [value for value in x_axis]\n",
    "\n",
    "plt.bar(x_axis, y_axis , alpha=0.8, align=\"center\")\n",
    "plt.xticks(tick_locations, Drug_Regimen, rotation = \"vertical\")\n",
    "\n",
    "\n",
    "plt.title(\"Data points for each treatment regimen\")\n",
    "plt.xlabel(\"Drug Regimen\")\n",
    "plt.ylabel(\"Number of Datapoints\")\n",
    "plt.show()"
   ]
  },
  {
   "cell_type": "code",
   "execution_count": 217,
   "metadata": {},
   "outputs": [
    {
     "data": {
      "text/plain": [
       "Text(0, 0.5, 'Number of Datapoints')"
      ]
     },
     "execution_count": 217,
     "metadata": {},
     "output_type": "execute_result"
    },
    {
     "data": {
      "image/png": "[encoded data removed]",
      "text/plain": [
       "<Figure size 432x288 with 1 Axes>"
      ]
     },
     "metadata": {
      "needs_background": "light"
     },
     "output_type": "display_data"
    }
   ],
   "source": [
    "#Bar Chart using DataFrame (Pandas)\n",
    "\n",
    "count = group[\"Drug Regimen\"].count()\n",
    "\n",
    "count_chart = count.plot(kind = 'bar')\n",
    "plt.title(\"Data Points for each treatment regimen\")\n",
    "plt.ylabel(\"Number of Datapoints\")\n"
   ]
  },
  {
   "cell_type": "code",
   "execution_count": 8,
   "metadata": {},
   "outputs": [
    {
     "data": {
      "text/plain": [
       "Text(0, 0.5, 'Sex')"
      ]
     },
     "execution_count": 8,
     "metadata": {},
     "output_type": "execute_result"
    },
    {
     "data": {
      "image/png": "[encoded data removed]",
      "text/plain": [
       "<Figure size 432x288 with 1 Axes>"
      ]
     },
     "metadata": {},
     "output_type": "display_data"
    }
   ],
   "source": [
    " # Generate a pie plot showing the distribution of female versus male mice using pyplot\n",
    "\n",
    "    \n",
    "group1 = df3.groupby(\"Sex\")  \n",
    "count = group1[\"Mouse ID\"].nunique()\n",
    "labels = [\"Female\",\"Male\"]\n",
    "plt.pie(count,labels=labels,autopct=\"%1.1f%%\", startangle=180)\n",
    "plt.title(\"Chart showing the distribution of female versus male mice \")\n",
    "plt.ylabel(\"Sex\")"
   ]
  },
  {
   "cell_type": "code",
   "execution_count": 9,
   "metadata": {},
   "outputs": [
    {
     "data": {
      "text/plain": [
       "Text(0.5, 1.0, 'Chart showing the distribution of female versus male mice')"
      ]
     },
     "execution_count": 9,
     "metadata": {},
     "output_type": "execute_result"
    },
    {
     "data": {
      "image/png": "[encoded data removed]",
      "text/plain": [
       "<Figure size 432x288 with 1 Axes>"
      ]
     },
     "metadata": {},
     "output_type": "display_data"
    }
   ],
   "source": [
    "# Generate a pie plot showing the distribution of female versus male mice using pandas\n",
    "\n",
    "count = group1[\"Mouse ID\"].nunique()\n",
    "\n",
    "\n",
    "count_chart = count.plot(kind = 'pie',autopct='%1.1f%%',startangle=180)\n",
    "plt.ylabel(\"Sex\")\n",
    "plt.title(\"Chart showing the distribution of female versus male mice\")"
   ]
  },
  {
   "cell_type": "code",
   "execution_count": 218,
   "metadata": {},
   "outputs": [
    {
     "name": "stdout",
     "output_type": "stream",
     "text": [
      "IQR of Capomulin is 7.781863460000004\n",
      "Upper limit of Capomulin is 51.83201549 and lower limit is 20.70456164999999\n",
      "--------------------------------------------------------------------------------------\n",
      "IQR of Ramicane is 9.098536719999998\n",
      "Upper limit of Ramicane is 54.30681135 and lower limit is 17.912664470000003\n",
      "--------------------------------------------------------------------------------------\n",
      "IQR of Infubinol is 11.477135160000003\n",
      "Upper limit of Infubinol is 82.74144559000001 and lower limit is 36.83290494999999\n",
      "--------------------------------------------------------------------------------------\n",
      "IQR of Ceftamin is 15.577752179999997\n",
      "Upper limit of Ceftamin is 87.66645829999999 and lower limit is 25.355449580000002\n",
      "--------------------------------------------------------------------------------------\n"
     ]
    }
   ],
   "source": [
    "# Get final volume for each regimen by sorting the data by Timepoint and removing duplicate Mouse IDs\n",
    "\n",
    "Data_Capomulin = combined_data.loc[combined_data[\"Drug Regimen\"] == \"Capomulin\",[\"Mouse ID\",\"Drug Regimen\",\"Tumor Volume (mm3)\",\"Timepoint\"]]\n",
    "sorted_Data_Capomulin = Data_Capomulin.sort_values(by = \"Timepoint\", ascending = 0)\n",
    "Data_Capomulin_unique = sorted_Data_Capomulin.drop_duplicates(subset=\"Mouse ID\", keep='first')\n",
    "Regimen_1 = Data_Capomulin_unique[\"Tumor Volume (mm3)\"] \n",
    "\n",
    "Data_Ramicane = combined_data.loc[combined_data[\"Drug Regimen\"] == \"Ramicane\",[\"Mouse ID\",\"Drug Regimen\",\"Tumor Volume (mm3)\",\"Timepoint\"]]\n",
    "sorted_Data_Ramicane = Data_Ramicane.sort_values(by = \"Timepoint\", ascending = 0)\n",
    "Data_Ramicane_unique = sorted_Data_Ramicane.drop_duplicates(subset=\"Mouse ID\", keep='first')\n",
    "Regimen_2 = Data_Ramicane_unique[\"Tumor Volume (mm3)\"] \n",
    "\n",
    "Data_Infubinol = combined_data.loc[combined_data[\"Drug Regimen\"] == \"Infubinol\",[\"Mouse ID\",\"Drug Regimen\",\"Tumor Volume (mm3)\",\"Timepoint\"]]\n",
    "sorted_Data_Infubinol = Data_Infubinol.sort_values(by = \"Timepoint\", ascending = 0)\n",
    "Data_Infubinol_unique = sorted_Data_Infubinol.drop_duplicates(subset=\"Mouse ID\", keep='first')\n",
    "Regimen_3 = Data_Infubinol_unique[\"Tumor Volume (mm3)\"] \n",
    "\n",
    "Data_Ceftamin = combined_data.loc[combined_data[\"Drug Regimen\"] == \"Ceftamin\",[\"Mouse ID\",\"Drug Regimen\",\"Tumor Volume (mm3)\",\"Timepoint\"]]\n",
    "sorted_Data_Ceftamin = Data_Ceftamin.sort_values(by = \"Timepoint\", ascending = 0)\n",
    "Data_Ceftamin_unique = sorted_Data_Ceftamin.drop_duplicates(subset=\"Mouse ID\", keep='first')\n",
    "Regimen_4 = Data_Ceftamin_unique[\"Tumor Volume (mm3)\"]\n",
    "#Interquartile Range\n",
    "\n",
    "#IQR Capomulin\n",
    "quartiles_1 = Regimen_1.quantile([0.25,0.5,0.75])\n",
    "\n",
    "lowerq1 = quartiles_1.values[0]\n",
    "upperq1 = quartiles_1.values[2]\n",
    "iqr_Capomulin = upperq1-lowerq1\n",
    "\n",
    "lower_bound1 = lowerq1 - (1.5*iqr_Capomulin)\n",
    "upper_bound1 = upperq1 + (1.5*iqr_Capomulin)\n",
    "\n",
    "\n",
    "#IQR Ramicane\n",
    "quartiles_2 = Regimen_2.quantile([0.25,0.5,0.75])\n",
    "\n",
    "lowerq2 = quartiles_2.values[0]\n",
    "upperq2 = quartiles_2.values[2]\n",
    "iqr_Ramicane = upperq2-lowerq2\n",
    "lower_bound2 = lowerq2 - (1.5*iqr_Ramicane)\n",
    "upper_bound2 = upperq2 + (1.5*iqr_Ramicane)\n",
    "\n",
    "#IQR Infubinol\n",
    "quartiles_3 = Regimen_3.quantile([0.25,0.5,0.75])\n",
    "\n",
    "lowerq3 = quartiles_3.values[0]\n",
    "upperq3 = quartiles_3.values[2]\n",
    "iqr_Infubinol = upperq3-lowerq3\n",
    "lower_bound3 = lowerq3 - (1.5*iqr_Infubinol)\n",
    "upper_bound3 = upperq3 + (1.5*iqr_Infubinol)\n",
    "\n",
    "#IQR Ceftamin\n",
    "quartiles_4 = Regimen_4.quantile([0.25,0.5,0.75])\n",
    "\n",
    "lowerq4 = quartiles_4.values[0]\n",
    "upperq4 = quartiles_4.values[2]\n",
    "iqr_Ceftamin = upperq4-lowerq4\n",
    "lower_bound4 = lowerq4 - (1.5*iqr_Ceftamin)\n",
    "upper_bound4 = upperq4 + (1.5*iqr_Ceftamin)\n",
    "\n",
    "print(\"IQR of Capomulin is {}\".format(iqr_Capomulin))\n",
    "print(\"Upper limit of Capomulin is {} and lower limit is {}\".format(upper_bound1,lower_bound1))\n",
    "print(\"--------------------------------------------------------------------------------------\")\n",
    "\n",
    "print(\"IQR of Ramicane is {}\".format(iqr_Ramicane))\n",
    "print(\"Upper limit of Ramicane is {} and lower limit is {}\".format(upper_bound2,lower_bound2))\n",
    "print(\"--------------------------------------------------------------------------------------\")\n",
    "\n",
    "print(\"IQR of Infubinol is {}\".format(iqr_Infubinol))\n",
    "print(\"Upper limit of Infubinol is {} and lower limit is {}\".format(upper_bound3,lower_bound3))\n",
    "print(\"--------------------------------------------------------------------------------------\")\n",
    "\n",
    "print(\"IQR of Ceftamin is {}\".format(iqr_Ceftamin))\n",
    "print(\"Upper limit of Ceftamin is {} and lower limit is {}\".format(upper_bound4,lower_bound4))\n",
    "print(\"--------------------------------------------------------------------------------------\")\n",
    "\n"
   ]
  },
  {
   "cell_type": "code",
   "execution_count": 227,
   "metadata": {},
   "outputs": [
    {
     "data": {
      "text/plain": [
       "Text(0, 0.5, 'Final Tumor Volume (mm3)')"
      ]
     },
     "execution_count": 227,
     "metadata": {},
     "output_type": "execute_result"
    },
    {
     "data": {
      "image/png": "[encoded data removed]",
      "text/plain": [
       "<Figure size 432x288 with 1 Axes>"
      ]
     },
     "metadata": {
      "needs_background": "light"
     },
     "output_type": "display_data"
    }
   ],
   "source": [
    "Drug_Regimen = [\"Capomulin\",\"Ramicane\",\"Infubinol\",\"Ceftamin\"]\n",
    "x1_values = np.arange(len(Drug_Regimen))\n",
    "tick_locations1 = [x+1 for x in x1_values]\n",
    "plt.boxplot ([Regimen_1.values,Regimen_2.values, Regimen_3.values, Regimen_4.values ])\n",
    "plt.xticks(tick_locations1, Drug_Regimen)\n",
    "plt.ylabel(\"Final Tumor Volume (mm3)\")\n",
    "\n"
   ]
  },
  {
   "cell_type": "code",
   "execution_count": 228,
   "metadata": {},
   "outputs": [
    {
     "data": {
      "text/plain": [
       "Text(0.5, 1.0, 'Capomulin treatment of mouse I509')"
      ]
     },
     "execution_count": 228,
     "metadata": {},
     "output_type": "execute_result"
    },
    {
     "data": {
      "image/png": "[encoded data removed]",
      "text/plain": [
       "<Figure size 432x288 with 1 Axes>"
      ]
     },
     "metadata": {
      "needs_background": "light"
     },
     "output_type": "display_data"
    }
   ],
   "source": [
    "# Generate a line plot of time point versus tumor volume for a mouse treated with Capomulin\n",
    "\n",
    "promising_regimen_capomulin = combined_data.loc[combined_data[\"Drug Regimen\"] == \"Capomulin\",:]\n",
    "promising_regimen_capomulin_1mouse = promising_regimen_capomulin.loc[promising_regimen_capomulin[\"Mouse ID\"] == \"l509\"]\n",
    "\n",
    "mydata = promising_regimen_capomulin_1mouse[[\"Tumor Volume (mm3)\",\"Timepoint\"]].dropna(how = \"any\")\n",
    "\n",
    "plt.plot( mydata[\"Timepoint\"], mydata[\"Tumor Volume (mm3)\"])\n",
    "plt.show\n",
    "plt.xlabel(\"Timepoint (Days)\")\n",
    "plt.ylabel(\"Tumour Volume(mm3)\")\n",
    "plt.title(\"Capomulin treatment of mouse I509\")\n"
   ]
  },
  {
   "cell_type": "code",
   "execution_count": 229,
   "metadata": {
    "scrolled": true
   },
   "outputs": [
    {
     "data": {
      "text/plain": [
       "Text(0, 0.5, 'Average Tumor Volume (mm3)')"
      ]
     },
     "execution_count": 229,
     "metadata": {},
     "output_type": "execute_result"
    },
    {
     "data": {
      "image/png": "[encoded data removed]",
      "text/plain": [
       "<Figure size 432x288 with 1 Axes>"
      ]
     },
     "metadata": {
      "needs_background": "light"
     },
     "output_type": "display_data"
    }
   ],
   "source": [
    "#Scatter plot of mouse weight versus average tumor volume for the Capomulin regimen\n",
    "\n",
    "Tumour_volume = promising_regimen_capomulin.groupby(\"Mouse ID\")[\"Tumor Volume (mm3)\"].mean()\n",
    "Mouse_weight = promising_regimen_capomulin.groupby(\"Mouse ID\")[\"Weight (g)\"].first()\n",
    "\n",
    "Summary = pd.DataFrame({\"Tumour volume\":Tumour_volume, \"Mouse weight\":Mouse_weight})\n",
    "x_values = Summary[\"Tumour volume\"]\n",
    "y_values = Summary[\"Mouse weight\"]\n",
    "plt.scatter(y_values, x_values, marker=\"o\", alpha=1)\n",
    "plt.xlabel(\"Weight(g)\")\n",
    "plt.ylabel(\"Average Tumor Volume (mm3)\")"
   ]
  },
  {
   "cell_type": "code",
   "execution_count": 230,
   "metadata": {},
   "outputs": [
    {
     "name": "stdout",
     "output_type": "stream",
     "text": [
      "The correlation coefficient between average tumor volume and mice weight is 0.84\n"
     ]
    }
   ],
   "source": [
    "# Calculate the correlation coefficient and linear regression model for mouse weight and average tumor volume for the Capomulin regimen\n",
    "\n",
    "print(f\"The correlation coefficient between average tumor volume and mice weight is {round(st.pearsonr(x_values,y_values)[0],2)}\")\n",
    "\n"
   ]
  },
  {
   "cell_type": "code",
   "execution_count": 231,
   "metadata": {},
   "outputs": [
    {
     "data": {
      "text/plain": [
       "Text(50, 15, 'y = 0.74x +-10.15')"
      ]
     },
     "execution_count": 231,
     "metadata": {},
     "output_type": "execute_result"
    },
    {
     "data": {
      "image/png": "[encoded data removed]",
      "text/plain": [
       "<Figure size 432x288 with 1 Axes>"
      ]
     },
     "metadata": {
      "needs_background": "light"
     },
     "output_type": "display_data"
    }
   ],
   "source": [
    "# linear regression model for mouse weight and average tumor volume for the Capomulin regimen\n",
    "slope, intercept, rvalue, pvalue, stderr = st.linregress(x_values, y_values)\n",
    "\n",
    "# Create equation of line to calculate predicted average tumor volume\n",
    "\n",
    "regress_values = x_values * slope + intercept\n",
    "\n",
    "plt.scatter(x_values, y_values,marker=\"o\", alpha=1)\n",
    "\n",
    "plt.xlabel(\"Weight(g)\")\n",
    "plt.ylabel(\"Average Tumor Volume (mm3)\")\n",
    "plt.plot(x_values,regress_values,\"r-\")\n",
    "\n",
    "plt.title(\"Regression Model\")\n",
    "\n",
    "line_eq = \"y = \" + str(round(slope,2)) + \"x +\" + str(round(intercept,2))\n",
    "plt.annotate(line_eq,(50,15),fontsize=15,color=\"red\")"
   ]
  },
  {
   "cell_type": "code",
   "execution_count": null,
   "metadata": {},
   "outputs": [],
   "source": []
  }
 ],
 "metadata": {
  "kernelspec": {
   "display_name": "Python 3",
   "language": "python",
   "name": "python3"
  },
  "language_info": {
   "codemirror_mode": {
    "name": "ipython",
    "version": 3
   },
   "file_extension": ".py",
   "mimetype": "text/x-python",
   "name": "python",
   "nbconvert_exporter": "python",
   "pygments_lexer": "ipython3",
   "version": "3.7.4"
  }
 },
 "nbformat": 4,
 "nbformat_minor": 2
}
